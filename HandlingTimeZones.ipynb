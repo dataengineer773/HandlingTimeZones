{
 "cells": [
  {
   "cell_type": "code",
   "execution_count": 1,
   "id": "59190f33-7b3c-4dd4-8893-7dc842af4eb5",
   "metadata": {},
   "outputs": [],
   "source": [
    "# Load library\n",
    "import pandas as pd"
   ]
  },
  {
   "cell_type": "code",
   "execution_count": 2,
   "id": "88efb80d-8dbf-40ba-be77-02fd7ac60447",
   "metadata": {},
   "outputs": [
    {
     "data": {
      "text/plain": [
       "Timestamp('2017-05-01 06:00:00+0100', tz='Europe/London')"
      ]
     },
     "execution_count": 2,
     "metadata": {},
     "output_type": "execute_result"
    }
   ],
   "source": [
    "# Create datetime\n",
    "pd.Timestamp('2017-05-01 06:00:00', tz='Europe/London')"
   ]
  },
  {
   "cell_type": "code",
   "execution_count": 3,
   "id": "655725ba-789b-4899-9120-b659b24c72cb",
   "metadata": {},
   "outputs": [],
   "source": [
    "# Create datetime\n",
    "date = pd.Timestamp('2017-05-01 06:00:00')"
   ]
  },
  {
   "cell_type": "code",
   "execution_count": 4,
   "id": "d9ec6401-9fbd-432e-bb97-f726feba6806",
   "metadata": {},
   "outputs": [],
   "source": [
    "# Set time zone\n",
    "date_in_london = date.tz_localize('Europe/London')"
   ]
  },
  {
   "cell_type": "code",
   "execution_count": 5,
   "id": "d0472fc1-15be-451e-9f6c-3e3026dd27d4",
   "metadata": {},
   "outputs": [
    {
     "data": {
      "text/plain": [
       "Timestamp('2017-05-01 06:00:00+0100', tz='Europe/London')"
      ]
     },
     "execution_count": 5,
     "metadata": {},
     "output_type": "execute_result"
    }
   ],
   "source": [
    "# Show datetime\n",
    "date_in_london"
   ]
  },
  {
   "cell_type": "code",
   "execution_count": 6,
   "id": "45682dad-c2c8-4f56-bd94-b337b3074dec",
   "metadata": {},
   "outputs": [
    {
     "data": {
      "text/plain": [
       "Timestamp('2017-05-01 05:00:00+0000', tz='Africa/Abidjan')"
      ]
     },
     "execution_count": 6,
     "metadata": {},
     "output_type": "execute_result"
    }
   ],
   "source": [
    "# Change time zone\n",
    "date_in_london.tz_convert('Africa/Abidjan')"
   ]
  },
  {
   "cell_type": "code",
   "execution_count": 9,
   "id": "d51acf40-8674-4d22-b337-4e5f1c9e43e6",
   "metadata": {},
   "outputs": [
    {
     "name": "stderr",
     "output_type": "stream",
     "text": [
      "C:\\Users\\dell\\AppData\\Local\\Temp\\ipykernel_6152\\3289269905.py:2: FutureWarning: 'M' is deprecated and will be removed in a future version, please use 'ME' instead.\n",
      "  dates = pd.Series(pd.date_range('2/2/2002', periods=3, freq='M'))\n"
     ]
    }
   ],
   "source": [
    "# Create three dates\n",
    "dates = pd.Series(pd.date_range('2/2/2002', periods=3, freq='M'))"
   ]
  },
  {
   "cell_type": "code",
   "execution_count": 10,
   "id": "bb9f476e-6e29-4d03-8e3e-e30014b16250",
   "metadata": {},
   "outputs": [
    {
     "data": {
      "text/plain": [
       "0   2002-02-28 00:00:00+00:00\n",
       "1   2002-03-31 00:00:00+00:00\n",
       "2   2002-04-30 00:00:00+00:00\n",
       "dtype: datetime64[ns, Africa/Abidjan]"
      ]
     },
     "execution_count": 10,
     "metadata": {},
     "output_type": "execute_result"
    }
   ],
   "source": [
    "# Set time zone\n",
    "dates.dt.tz_localize('Africa/Abidjan')"
   ]
  },
  {
   "cell_type": "code",
   "execution_count": 11,
   "id": "7599abfc-3c86-4d6b-8772-6ba788e34d55",
   "metadata": {},
   "outputs": [],
   "source": [
    "# Load library\n",
    "from pytz import all_timezones"
   ]
  },
  {
   "cell_type": "code",
   "execution_count": 12,
   "id": "4c6e3bcd-408c-4aa1-938f-241c3059eba4",
   "metadata": {},
   "outputs": [
    {
     "data": {
      "text/plain": [
       "['Africa/Abidjan', 'Africa/Accra']"
      ]
     },
     "execution_count": 12,
     "metadata": {},
     "output_type": "execute_result"
    }
   ],
   "source": [
    "# Show two time zones\n",
    "all_timezones[0:2]"
   ]
  }
 ],
 "metadata": {
  "kernelspec": {
   "display_name": "Python 3 (ipykernel)",
   "language": "python",
   "name": "python3"
  },
  "language_info": {
   "codemirror_mode": {
    "name": "ipython",
    "version": 3
   },
   "file_extension": ".py",
   "mimetype": "text/x-python",
   "name": "python",
   "nbconvert_exporter": "python",
   "pygments_lexer": "ipython3",
   "version": "3.12.3"
  }
 },
 "nbformat": 4,
 "nbformat_minor": 5
}
